{
  "nbformat": 4,
  "nbformat_minor": 0,
  "metadata": {
    "colab": {
      "name": "CS289_HW1_S2020.ipynb",
      "provenance": [],
      "authorship_tag": "ABX9TyOtlEFipe+e1DdyFHAyGCAl",
      "include_colab_link": true
    },
    "kernelspec": {
      "name": "python3",
      "display_name": "Python 3"
    },
    "accelerator": "GPU",
    "widgets": {
      "application/vnd.jupyter.widget-state+json": {
        "6d4d9cd50453473c946b6d539c79173d": {
          "model_module": "@jupyter-widgets/controls",
          "model_name": "HBoxModel",
          "state": {
            "_view_name": "HBoxView",
            "_dom_classes": [],
            "_model_name": "HBoxModel",
            "_view_module": "@jupyter-widgets/controls",
            "_model_module_version": "1.5.0",
            "_view_count": null,
            "_view_module_version": "1.5.0",
            "box_style": "",
            "layout": "IPY_MODEL_190a709f3395471895cef959a9a7c98a",
            "_model_module": "@jupyter-widgets/controls",
            "children": [
              "IPY_MODEL_7b20d3f4cd514af4adfd26a58d9013bd",
              "IPY_MODEL_453f3a73c66844d8a6fe0bd20a025f15"
            ]
          }
        },
        "190a709f3395471895cef959a9a7c98a": {
          "model_module": "@jupyter-widgets/base",
          "model_name": "LayoutModel",
          "state": {
            "_view_name": "LayoutView",
            "grid_template_rows": null,
            "right": null,
            "justify_content": null,
            "_view_module": "@jupyter-widgets/base",
            "overflow": null,
            "_model_module_version": "1.2.0",
            "_view_count": null,
            "flex_flow": null,
            "width": null,
            "min_width": null,
            "border": null,
            "align_items": null,
            "bottom": null,
            "_model_module": "@jupyter-widgets/base",
            "top": null,
            "grid_column": null,
            "overflow_y": null,
            "overflow_x": null,
            "grid_auto_flow": null,
            "grid_area": null,
            "grid_template_columns": null,
            "flex": null,
            "_model_name": "LayoutModel",
            "justify_items": null,
            "grid_row": null,
            "max_height": null,
            "align_content": null,
            "visibility": null,
            "align_self": null,
            "height": null,
            "min_height": null,
            "padding": null,
            "grid_auto_rows": null,
            "grid_gap": null,
            "max_width": null,
            "order": null,
            "_view_module_version": "1.2.0",
            "grid_template_areas": null,
            "object_position": null,
            "object_fit": null,
            "grid_auto_columns": null,
            "margin": null,
            "display": null,
            "left": null
          }
        },
        "7b20d3f4cd514af4adfd26a58d9013bd": {
          "model_module": "@jupyter-widgets/controls",
          "model_name": "IntProgressModel",
          "state": {
            "_view_name": "ProgressView",
            "style": "IPY_MODEL_6e6edd5cbfd24bbc9d0557686bcc8332",
            "_dom_classes": [],
            "description": "",
            "_model_name": "IntProgressModel",
            "bar_style": "success",
            "max": 1,
            "_view_module": "@jupyter-widgets/controls",
            "_model_module_version": "1.5.0",
            "value": 1,
            "_view_count": null,
            "_view_module_version": "1.5.0",
            "orientation": "horizontal",
            "min": 0,
            "description_tooltip": null,
            "_model_module": "@jupyter-widgets/controls",
            "layout": "IPY_MODEL_fa2b59646e6f46429d76cd2fca0fa519"
          }
        },
        "453f3a73c66844d8a6fe0bd20a025f15": {
          "model_module": "@jupyter-widgets/controls",
          "model_name": "HTMLModel",
          "state": {
            "_view_name": "HTMLView",
            "style": "IPY_MODEL_e9e0c95fd79042b393eea6bf0a154c1f",
            "_dom_classes": [],
            "description": "",
            "_model_name": "HTMLModel",
            "placeholder": "​",
            "_view_module": "@jupyter-widgets/controls",
            "_model_module_version": "1.5.0",
            "value": "170500096it [00:05, 32632294.78it/s]",
            "_view_count": null,
            "_view_module_version": "1.5.0",
            "description_tooltip": null,
            "_model_module": "@jupyter-widgets/controls",
            "layout": "IPY_MODEL_67b2d2f4f0714f86afb4aa99489db3a4"
          }
        },
        "6e6edd5cbfd24bbc9d0557686bcc8332": {
          "model_module": "@jupyter-widgets/controls",
          "model_name": "ProgressStyleModel",
          "state": {
            "_view_name": "StyleView",
            "_model_name": "ProgressStyleModel",
            "description_width": "",
            "_view_module": "@jupyter-widgets/base",
            "_model_module_version": "1.5.0",
            "_view_count": null,
            "_view_module_version": "1.2.0",
            "bar_color": null,
            "_model_module": "@jupyter-widgets/controls"
          }
        },
        "fa2b59646e6f46429d76cd2fca0fa519": {
          "model_module": "@jupyter-widgets/base",
          "model_name": "LayoutModel",
          "state": {
            "_view_name": "LayoutView",
            "grid_template_rows": null,
            "right": null,
            "justify_content": null,
            "_view_module": "@jupyter-widgets/base",
            "overflow": null,
            "_model_module_version": "1.2.0",
            "_view_count": null,
            "flex_flow": null,
            "width": null,
            "min_width": null,
            "border": null,
            "align_items": null,
            "bottom": null,
            "_model_module": "@jupyter-widgets/base",
            "top": null,
            "grid_column": null,
            "overflow_y": null,
            "overflow_x": null,
            "grid_auto_flow": null,
            "grid_area": null,
            "grid_template_columns": null,
            "flex": null,
            "_model_name": "LayoutModel",
            "justify_items": null,
            "grid_row": null,
            "max_height": null,
            "align_content": null,
            "visibility": null,
            "align_self": null,
            "height": null,
            "min_height": null,
            "padding": null,
            "grid_auto_rows": null,
            "grid_gap": null,
            "max_width": null,
            "order": null,
            "_view_module_version": "1.2.0",
            "grid_template_areas": null,
            "object_position": null,
            "object_fit": null,
            "grid_auto_columns": null,
            "margin": null,
            "display": null,
            "left": null
          }
        },
        "e9e0c95fd79042b393eea6bf0a154c1f": {
          "model_module": "@jupyter-widgets/controls",
          "model_name": "DescriptionStyleModel",
          "state": {
            "_view_name": "StyleView",
            "_model_name": "DescriptionStyleModel",
            "description_width": "",
            "_view_module": "@jupyter-widgets/base",
            "_model_module_version": "1.5.0",
            "_view_count": null,
            "_view_module_version": "1.2.0",
            "_model_module": "@jupyter-widgets/controls"
          }
        },
        "67b2d2f4f0714f86afb4aa99489db3a4": {
          "model_module": "@jupyter-widgets/base",
          "model_name": "LayoutModel",
          "state": {
            "_view_name": "LayoutView",
            "grid_template_rows": null,
            "right": null,
            "justify_content": null,
            "_view_module": "@jupyter-widgets/base",
            "overflow": null,
            "_model_module_version": "1.2.0",
            "_view_count": null,
            "flex_flow": null,
            "width": null,
            "min_width": null,
            "border": null,
            "align_items": null,
            "bottom": null,
            "_model_module": "@jupyter-widgets/base",
            "top": null,
            "grid_column": null,
            "overflow_y": null,
            "overflow_x": null,
            "grid_auto_flow": null,
            "grid_area": null,
            "grid_template_columns": null,
            "flex": null,
            "_model_name": "LayoutModel",
            "justify_items": null,
            "grid_row": null,
            "max_height": null,
            "align_content": null,
            "visibility": null,
            "align_self": null,
            "height": null,
            "min_height": null,
            "padding": null,
            "grid_auto_rows": null,
            "grid_gap": null,
            "max_width": null,
            "order": null,
            "_view_module_version": "1.2.0",
            "grid_template_areas": null,
            "object_position": null,
            "object_fit": null,
            "grid_auto_columns": null,
            "margin": null,
            "display": null,
            "left": null
          }
        },
        "4af61682b8e2423195f148bc13cce0d1": {
          "model_module": "@jupyter-widgets/controls",
          "model_name": "HBoxModel",
          "state": {
            "_view_name": "HBoxView",
            "_dom_classes": [],
            "_model_name": "HBoxModel",
            "_view_module": "@jupyter-widgets/controls",
            "_model_module_version": "1.5.0",
            "_view_count": null,
            "_view_module_version": "1.5.0",
            "box_style": "",
            "layout": "IPY_MODEL_bf7169c132734717ae3e8afcf8f38900",
            "_model_module": "@jupyter-widgets/controls",
            "children": [
              "IPY_MODEL_7d351c4d60194401817769d18c8b5d4a",
              "IPY_MODEL_4a3f776f35124c20b2013075906e6310"
            ]
          }
        },
        "bf7169c132734717ae3e8afcf8f38900": {
          "model_module": "@jupyter-widgets/base",
          "model_name": "LayoutModel",
          "state": {
            "_view_name": "LayoutView",
            "grid_template_rows": null,
            "right": null,
            "justify_content": null,
            "_view_module": "@jupyter-widgets/base",
            "overflow": null,
            "_model_module_version": "1.2.0",
            "_view_count": null,
            "flex_flow": null,
            "width": null,
            "min_width": null,
            "border": null,
            "align_items": null,
            "bottom": null,
            "_model_module": "@jupyter-widgets/base",
            "top": null,
            "grid_column": null,
            "overflow_y": null,
            "overflow_x": null,
            "grid_auto_flow": null,
            "grid_area": null,
            "grid_template_columns": null,
            "flex": null,
            "_model_name": "LayoutModel",
            "justify_items": null,
            "grid_row": null,
            "max_height": null,
            "align_content": null,
            "visibility": null,
            "align_self": null,
            "height": null,
            "min_height": null,
            "padding": null,
            "grid_auto_rows": null,
            "grid_gap": null,
            "max_width": null,
            "order": null,
            "_view_module_version": "1.2.0",
            "grid_template_areas": null,
            "object_position": null,
            "object_fit": null,
            "grid_auto_columns": null,
            "margin": null,
            "display": null,
            "left": null
          }
        },
        "7d351c4d60194401817769d18c8b5d4a": {
          "model_module": "@jupyter-widgets/controls",
          "model_name": "IntProgressModel",
          "state": {
            "_view_name": "ProgressView",
            "style": "IPY_MODEL_2835e1a338444092a3b20bcdd1bed430",
            "_dom_classes": [],
            "description": "",
            "_model_name": "IntProgressModel",
            "bar_style": "success",
            "max": 1,
            "_view_module": "@jupyter-widgets/controls",
            "_model_module_version": "1.5.0",
            "value": 1,
            "_view_count": null,
            "_view_module_version": "1.5.0",
            "orientation": "horizontal",
            "min": 0,
            "description_tooltip": null,
            "_model_module": "@jupyter-widgets/controls",
            "layout": "IPY_MODEL_7e7ca5bd246048a892d082d09fdf6526"
          }
        },
        "4a3f776f35124c20b2013075906e6310": {
          "model_module": "@jupyter-widgets/controls",
          "model_name": "HTMLModel",
          "state": {
            "_view_name": "HTMLView",
            "style": "IPY_MODEL_b7c1b3087b6e43f3a2e6ac1777f4e59b",
            "_dom_classes": [],
            "description": "",
            "_model_name": "HTMLModel",
            "placeholder": "​",
            "_view_module": "@jupyter-widgets/controls",
            "_model_module_version": "1.5.0",
            "value": "170500096it [00:04, 42283789.12it/s]",
            "_view_count": null,
            "_view_module_version": "1.5.0",
            "description_tooltip": null,
            "_model_module": "@jupyter-widgets/controls",
            "layout": "IPY_MODEL_b2d9cbed341e46939e71a17481ce80fd"
          }
        },
        "2835e1a338444092a3b20bcdd1bed430": {
          "model_module": "@jupyter-widgets/controls",
          "model_name": "ProgressStyleModel",
          "state": {
            "_view_name": "StyleView",
            "_model_name": "ProgressStyleModel",
            "description_width": "",
            "_view_module": "@jupyter-widgets/base",
            "_model_module_version": "1.5.0",
            "_view_count": null,
            "_view_module_version": "1.2.0",
            "bar_color": null,
            "_model_module": "@jupyter-widgets/controls"
          }
        },
        "7e7ca5bd246048a892d082d09fdf6526": {
          "model_module": "@jupyter-widgets/base",
          "model_name": "LayoutModel",
          "state": {
            "_view_name": "LayoutView",
            "grid_template_rows": null,
            "right": null,
            "justify_content": null,
            "_view_module": "@jupyter-widgets/base",
            "overflow": null,
            "_model_module_version": "1.2.0",
            "_view_count": null,
            "flex_flow": null,
            "width": null,
            "min_width": null,
            "border": null,
            "align_items": null,
            "bottom": null,
            "_model_module": "@jupyter-widgets/base",
            "top": null,
            "grid_column": null,
            "overflow_y": null,
            "overflow_x": null,
            "grid_auto_flow": null,
            "grid_area": null,
            "grid_template_columns": null,
            "flex": null,
            "_model_name": "LayoutModel",
            "justify_items": null,
            "grid_row": null,
            "max_height": null,
            "align_content": null,
            "visibility": null,
            "align_self": null,
            "height": null,
            "min_height": null,
            "padding": null,
            "grid_auto_rows": null,
            "grid_gap": null,
            "max_width": null,
            "order": null,
            "_view_module_version": "1.2.0",
            "grid_template_areas": null,
            "object_position": null,
            "object_fit": null,
            "grid_auto_columns": null,
            "margin": null,
            "display": null,
            "left": null
          }
        },
        "b7c1b3087b6e43f3a2e6ac1777f4e59b": {
          "model_module": "@jupyter-widgets/controls",
          "model_name": "DescriptionStyleModel",
          "state": {
            "_view_name": "StyleView",
            "_model_name": "DescriptionStyleModel",
            "description_width": "",
            "_view_module": "@jupyter-widgets/base",
            "_model_module_version": "1.5.0",
            "_view_count": null,
            "_view_module_version": "1.2.0",
            "_model_module": "@jupyter-widgets/controls"
          }
        },
        "b2d9cbed341e46939e71a17481ce80fd": {
          "model_module": "@jupyter-widgets/base",
          "model_name": "LayoutModel",
          "state": {
            "_view_name": "LayoutView",
            "grid_template_rows": null,
            "right": null,
            "justify_content": null,
            "_view_module": "@jupyter-widgets/base",
            "overflow": null,
            "_model_module_version": "1.2.0",
            "_view_count": null,
            "flex_flow": null,
            "width": null,
            "min_width": null,
            "border": null,
            "align_items": null,
            "bottom": null,
            "_model_module": "@jupyter-widgets/base",
            "top": null,
            "grid_column": null,
            "overflow_y": null,
            "overflow_x": null,
            "grid_auto_flow": null,
            "grid_area": null,
            "grid_template_columns": null,
            "flex": null,
            "_model_name": "LayoutModel",
            "justify_items": null,
            "grid_row": null,
            "max_height": null,
            "align_content": null,
            "visibility": null,
            "align_self": null,
            "height": null,
            "min_height": null,
            "padding": null,
            "grid_auto_rows": null,
            "grid_gap": null,
            "max_width": null,
            "order": null,
            "_view_module_version": "1.2.0",
            "grid_template_areas": null,
            "object_position": null,
            "object_fit": null,
            "grid_auto_columns": null,
            "margin": null,
            "display": null,
            "left": null
          }
        }
      }
    }
  },
  "cells": [
    {
      "cell_type": "markdown",
      "metadata": {
        "id": "view-in-github",
        "colab_type": "text"
      },
      "source": [
        "<a href=\"https://colab.research.google.com/github/sgfernandes/290t_project/blob/master/CS289_HW1_S2020.ipynb\" target=\"_parent\"><img src=\"https://colab.research.google.com/assets/colab-badge.svg\" alt=\"Open In Colab\"/></a>"
      ]
    },
    {
      "cell_type": "code",
      "metadata": {
        "id": "bDM1mSVaW1UU",
        "colab_type": "code",
        "colab": {}
      },
      "source": [
        "%matplotlib inline"
      ],
      "execution_count": 0,
      "outputs": []
    },
    {
      "cell_type": "code",
      "metadata": {
        "id": "bjWMmdxKdPPV",
        "colab_type": "code",
        "colab": {
          "base_uri": "https://localhost:8080/",
          "height": 51
        },
        "outputId": "af8d65a9-6b12-447f-c8eb-e4cda9784c1f"
      },
      "source": [
        "# params = list(net.parameters())\n",
        "# print(len(params))\n",
        "# print(params[0].size())  # conv1's .weight"
      ],
      "execution_count": 11,
      "outputs": [
        {
          "output_type": "stream",
          "text": [
            "10\n",
            "torch.Size([6, 1, 5, 5])\n"
          ],
          "name": "stdout"
        }
      ]
    },
    {
      "cell_type": "markdown",
      "metadata": {
        "id": "INQyIWTye1PT",
        "colab_type": "text"
      },
      "source": [
        "**Load and normalize the dataset, CIFAR10**"
      ]
    },
    {
      "cell_type": "code",
      "metadata": {
        "id": "2PVELHSMeKo0",
        "colab_type": "code",
        "colab": {}
      },
      "source": [
        "import torch\n",
        "import torchvision\n",
        "import torchvision.transforms as transforms"
      ],
      "execution_count": 0,
      "outputs": []
    },
    {
      "cell_type": "code",
      "metadata": {
        "id": "Z4QHs72neOS4",
        "colab_type": "code",
        "colab": {
          "base_uri": "https://localhost:8080/",
          "height": 137,
          "referenced_widgets": [
            "6d4d9cd50453473c946b6d539c79173d",
            "190a709f3395471895cef959a9a7c98a",
            "7b20d3f4cd514af4adfd26a58d9013bd",
            "453f3a73c66844d8a6fe0bd20a025f15",
            "6e6edd5cbfd24bbc9d0557686bcc8332",
            "fa2b59646e6f46429d76cd2fca0fa519",
            "e9e0c95fd79042b393eea6bf0a154c1f",
            "67b2d2f4f0714f86afb4aa99489db3a4"
          ]
        },
        "outputId": "10a29283-14bf-488e-c39b-4e37b209a4ec"
      },
      "source": [
        "transform = transforms.Compose(\n",
        "    [transforms.ToTensor(),\n",
        "     transforms.Normalize((0.5, 0.5, 0.5), (0.5, 0.5, 0.5))])\n",
        "\n",
        "trainset = torchvision.datasets.CIFAR10(root='./data', train=True,\n",
        "                                        download=True, transform=transform)\n",
        "trainloader = torch.utils.data.DataLoader(trainset, batch_size=4,\n",
        "                                          shuffle=True, num_workers=2)\n",
        "\n",
        "testset = torchvision.datasets.CIFAR10(root='./data', train=False,\n",
        "                                       download=True, transform=transform)\n",
        "testloader = torch.utils.data.DataLoader(testset, batch_size=4,\n",
        "                                         shuffle=False, num_workers=2)\n",
        "\n",
        "classes = ('plane', 'car', 'bird', 'cat',\n",
        "           'deer', 'dog', 'frog', 'horse', 'ship', 'truck')"
      ],
      "execution_count": 3,
      "outputs": [
        {
          "output_type": "stream",
          "text": [
            "Downloading https://www.cs.toronto.edu/~kriz/cifar-10-python.tar.gz to ./data/cifar-10-python.tar.gz\n"
          ],
          "name": "stdout"
        },
        {
          "output_type": "display_data",
          "data": {
            "application/vnd.jupyter.widget-view+json": {
              "model_id": "6d4d9cd50453473c946b6d539c79173d",
              "version_minor": 0,
              "version_major": 2
            },
            "text/plain": [
              "HBox(children=(IntProgress(value=1, bar_style='info', max=1), HTML(value='')))"
            ]
          },
          "metadata": {
            "tags": []
          }
        },
        {
          "output_type": "stream",
          "text": [
            "\n",
            "Extracting ./data/cifar-10-python.tar.gz to ./data\n",
            "Files already downloaded and verified\n"
          ],
          "name": "stdout"
        }
      ]
    },
    {
      "cell_type": "code",
      "metadata": {
        "id": "RRmVKFcPeTGj",
        "colab_type": "code",
        "colab": {
          "base_uri": "https://localhost:8080/",
          "height": 155
        },
        "outputId": "1c7de859-0485-42a7-e08c-97200c5c03ee"
      },
      "source": [
        "import matplotlib.pyplot as plt\n",
        "import numpy as np\n",
        "\n",
        "# functions to show an image\n",
        "\n",
        "\n",
        "def imshow(img):\n",
        "    img = img / 2 + 0.5     # unnormalize\n",
        "    npimg = img.numpy()\n",
        "    plt.imshow(np.transpose(npimg, (1, 2, 0)))\n",
        "    plt.show()\n",
        "\n",
        "\n",
        "# get some random training images\n",
        "dataiter = iter(trainloader)\n",
        "images, labels = dataiter.next()\n",
        "\n",
        "# show images\n",
        "imshow(torchvision.utils.make_grid(images))\n",
        "# print labels\n",
        "print(' '.join('%5s' % classes[labels[j]] for j in range(4)))"
      ],
      "execution_count": 4,
      "outputs": [
        {
          "output_type": "display_data",
          "data": {
            "image/png": "[encoded data removed]",
            "text/plain": [
              "<Figure size 432x288 with 1 Axes>"
            ]
          },
          "metadata": {
            "tags": []
          }
        },
        {
          "output_type": "stream",
          "text": [
            " deer   car   cat  frog\n"
          ],
          "name": "stdout"
        }
      ]
    },
    {
      "cell_type": "markdown",
      "metadata": {
        "id": "cnLa_72xehH_",
        "colab_type": "text"
      },
      "source": [
        "**Define the CNN**"
      ]
    },
    {
      "cell_type": "code",
      "metadata": {
        "id": "Qx04jlLqea8G",
        "colab_type": "code",
        "colab": {}
      },
      "source": [
        "import torch.nn as nn\n",
        "import torch.nn.functional as F\n",
        "\n",
        "\n",
        "class Net(nn.Module):\n",
        "    def __init__(self):\n",
        "        super(Net, self).__init__()\n",
        "        self.conv1 = nn.Conv2d(3, 6, 5) # Second argument here and first in self.conv2 are the width of the network. \n",
        "        self.pool = nn.MaxPool2d(2, 2)\n",
        "        self.conv2 = nn.Conv2d(6, 16, 5)\n",
        "        self.fc1 = nn.Linear(16 * 5 * 5, 120)\n",
        "        self.fc2 = nn.Linear(120, 84)\n",
        "        self.fc3 = nn.Linear(84, 10)\n",
        "\n",
        "    def forward(self, x):\n",
        "        x = self.pool(F.relu(self.conv1(x)))\n",
        "        x = self.pool(F.relu(self.conv2(x)))\n",
        "        x = x.view(-1, 16 * 5 * 5)\n",
        "        x = F.relu(self.fc1(x))\n",
        "        x = F.relu(self.fc2(x))\n",
        "        x = self.fc3(x)\n",
        "        return x\n",
        "\n",
        "\n",
        "net = Net()"
      ],
      "execution_count": 0,
      "outputs": []
    },
    {
      "cell_type": "markdown",
      "metadata": {
        "id": "JVzv2yIgZNbf",
        "colab_type": "text"
      },
      "source": [
        "**Define a loss function and an optimizer**"
      ]
    },
    {
      "cell_type": "code",
      "metadata": {
        "id": "zFbnXFZVZTdV",
        "colab_type": "code",
        "colab": {}
      },
      "source": [
        "import torch.optim as optim\n",
        "\n",
        "criterion = nn.CrossEntropyLoss()\n",
        "#optimizer = optim.SGD(net.parameters(), lr=0.001, momentum=0.9)\n",
        "\n",
        "optimizer = optim.Adam(net.parameters(),lr=0.0001,betas=(0.9, 0.999))"
      ],
      "execution_count": 0,
      "outputs": []
    },
    {
      "cell_type": "markdown",
      "metadata": {
        "id": "R3q-j_xCbu36",
        "colab_type": "text"
      },
      "source": [
        "**Train the Network**"
      ]
    },
    {
      "cell_type": "code",
      "metadata": {
        "id": "6PlpakSbbsw7",
        "colab_type": "code",
        "colab": {
          "base_uri": "https://localhost:8080/",
          "height": 238
        },
        "outputId": "602a6e38-f1a2-41f6-dfdf-a9e9c646e3e4"
      },
      "source": [
        "for epoch in range(2):  # loop over the dataset multiple times\n",
        "\n",
        "    running_loss = 0.0\n",
        "    for i, data in enumerate(trainloader, 0):\n",
        "        # get the inputs; data is a list of [inputs, labels]\n",
        "        inputs, labels = data\n",
        "\n",
        "        # zero the parameter gradients\n",
        "        optimizer.zero_grad()\n",
        "\n",
        "        # forward + backward + optimize\n",
        "        outputs = net(inputs)\n",
        "        loss = criterion(outputs, labels)\n",
        "        loss.backward()\n",
        "        optimizer.step()\n",
        "\n",
        "        # print statistics\n",
        "        running_loss += loss.item()\n",
        "        if i % 2000 == 1999:    # print every 2000 mini-batches\n",
        "            print('[%d, %5d] loss: %.3f' %\n",
        "                  (epoch + 1, i + 1, running_loss / 2000))\n",
        "            running_loss = 0.0\n",
        "\n",
        "print('Finished Training')"
      ],
      "execution_count": 12,
      "outputs": [
        {
          "output_type": "stream",
          "text": [
            "[1,  2000] loss: 2.303\n",
            "[1,  4000] loss: 2.303\n",
            "[1,  6000] loss: 2.303\n",
            "[1,  8000] loss: 2.303\n",
            "[1, 10000] loss: 2.303\n",
            "[1, 12000] loss: 2.303\n",
            "[2,  2000] loss: 2.303\n",
            "[2,  4000] loss: 2.303\n",
            "[2,  6000] loss: 2.303\n",
            "[2,  8000] loss: 2.303\n",
            "[2, 10000] loss: 2.303\n",
            "[2, 12000] loss: 2.303\n",
            "Finished Training\n"
          ],
          "name": "stdout"
        }
      ]
    },
    {
      "cell_type": "markdown",
      "metadata": {
        "id": "Ojq8QkTegDi3",
        "colab_type": "text"
      },
      "source": [
        "**Save the pytorch model**"
      ]
    },
    {
      "cell_type": "code",
      "metadata": {
        "id": "MrMbkokmfYQm",
        "colab_type": "code",
        "colab": {}
      },
      "source": [
        "# PATH = './cifar_net.pth'\n",
        "# torch.save(net.state_dict(), PATH)"
      ],
      "execution_count": 0,
      "outputs": []
    },
    {
      "cell_type": "markdown",
      "metadata": {
        "id": "g_fnoCTcgain",
        "colab_type": "text"
      },
      "source": [
        "**Test the network on test data**"
      ]
    },
    {
      "cell_type": "code",
      "metadata": {
        "id": "JqmL65VEgQpJ",
        "colab_type": "code",
        "colab": {
          "base_uri": "https://localhost:8080/",
          "height": 155
        },
        "outputId": "3a894836-e9ec-4dfc-d383-6ba82785507d"
      },
      "source": [
        "dataiter = iter(testloader)\n",
        "images, labels = dataiter.next()\n",
        "\n",
        "# print images\n",
        "imshow(torchvision.utils.make_grid(images))\n",
        "print('GroundTruth: ', ' '.join('%5s' % classes[labels[j]] for j in range(4)))"
      ],
      "execution_count": 22,
      "outputs": [
        {
          "output_type": "display_data",
          "data": {
            "image/png": "[encoded data removed]",
            "text/plain": [
              "<Figure size 432x288 with 1 Axes>"
            ]
          },
          "metadata": {
            "tags": []
          }
        },
        {
          "output_type": "stream",
          "text": [
            "GroundTruth:    cat  ship  ship plane\n"
          ],
          "name": "stdout"
        }
      ]
    },
    {
      "cell_type": "code",
      "metadata": {
        "id": "-so6AgWEgofH",
        "colab_type": "code",
        "colab": {}
      },
      "source": [
        "net = Net()\n",
        "#net.load_state_dict(torch.load(PATH)) Only use this step if you need to re load a saved model"
      ],
      "execution_count": 0,
      "outputs": []
    },
    {
      "cell_type": "code",
      "metadata": {
        "id": "-Eue0sAagynR",
        "colab_type": "code",
        "colab": {}
      },
      "source": [
        "outputs = net(images)"
      ],
      "execution_count": 0,
      "outputs": []
    },
    {
      "cell_type": "code",
      "metadata": {
        "id": "BN924PnZg11j",
        "colab_type": "code",
        "colab": {
          "base_uri": "https://localhost:8080/",
          "height": 34
        },
        "outputId": "a0a242c2-5da1-412a-8fd7-5000bcca7a9b"
      },
      "source": [
        "_, predicted = torch.max(outputs, 1)\n",
        "\n",
        "print('Predicted: ', ' '.join('%5s' % classes[predicted[j]]\n",
        "                              for j in range(4)))"
      ],
      "execution_count": 26,
      "outputs": [
        {
          "output_type": "stream",
          "text": [
            "Predicted:  horse horse horse horse\n"
          ],
          "name": "stdout"
        }
      ]
    },
    {
      "cell_type": "markdown",
      "metadata": {
        "id": "8yryT10_g-aJ",
        "colab_type": "text"
      },
      "source": [
        "**Entire Test Dataset**"
      ]
    },
    {
      "cell_type": "code",
      "metadata": {
        "id": "Jzku2CwjhB9j",
        "colab_type": "code",
        "colab": {
          "base_uri": "https://localhost:8080/",
          "height": 34
        },
        "outputId": "358d3e1e-b5f4-44f0-af40-ba2798238ab8"
      },
      "source": [
        "correct = 0\n",
        "total = 0\n",
        "with torch.no_grad():\n",
        "    for data in testloader:\n",
        "        images, labels = data\n",
        "        outputs = net(images)\n",
        "        _, predicted = torch.max(outputs.data, 1)\n",
        "        total += labels.size(0)\n",
        "        correct += (predicted == labels).sum().item()\n",
        "\n",
        "print('Accuracy of the network on the 10000 test images: %d %%' % (\n",
        "    100 * correct / total))"
      ],
      "execution_count": 9,
      "outputs": [
        {
          "output_type": "stream",
          "text": [
            "Accuracy of the network on the 10000 test images: 10 %\n"
          ],
          "name": "stdout"
        }
      ]
    },
    {
      "cell_type": "markdown",
      "metadata": {
        "id": "0UoKX62Xhy25",
        "colab_type": "text"
      },
      "source": [
        "**Classes that performed well**"
      ]
    },
    {
      "cell_type": "code",
      "metadata": {
        "id": "KpVLVcjWh2U2",
        "colab_type": "code",
        "colab": {}
      },
      "source": [
        "class_correct = list(0. for i in range(10))\n",
        "class_total = list(0. for i in range(10))\n",
        "with torch.no_grad():\n",
        "    for data in testloader:\n",
        "        images, labels = data\n",
        "        outputs = net(images)\n",
        "        _, predicted = torch.max(outputs, 1)\n",
        "        c = (predicted == labels).squeeze()\n",
        "        for i in range(4):\n",
        "            label = labels[i]\n",
        "            class_correct[label] += c[i].item()\n",
        "            class_total[label] += 1\n",
        "\n",
        "\n",
        "for i in range(10):\n",
        "    print('Accuracy of %5s : %2d %%' % (\n",
        "        classes[i], 100 * class_correct[i] / class_total[i]))"
      ],
      "execution_count": 0,
      "outputs": []
    },
    {
      "cell_type": "code",
      "metadata": {
        "id": "mnI07ZMYaLlH",
        "colab_type": "code",
        "colab": {}
      },
      "source": [
        ""
      ],
      "execution_count": 0,
      "outputs": []
    },
    {
      "cell_type": "code",
      "metadata": {
        "id": "oe2rozK0aLoR",
        "colab_type": "code",
        "colab": {}
      },
      "source": [
        ""
      ],
      "execution_count": 0,
      "outputs": []
    },
    {
      "cell_type": "code",
      "metadata": {
        "id": "xwg9gqMlaLqV",
        "colab_type": "code",
        "colab": {}
      },
      "source": [
        ""
      ],
      "execution_count": 0,
      "outputs": []
    },
    {
      "cell_type": "code",
      "metadata": {
        "id": "Dp5r0S2gaLtA",
        "colab_type": "code",
        "colab": {}
      },
      "source": [
        ""
      ],
      "execution_count": 0,
      "outputs": []
    },
    {
      "cell_type": "code",
      "metadata": {
        "id": "6ps_kaC6aLy7",
        "colab_type": "code",
        "colab": {}
      },
      "source": [
        ""
      ],
      "execution_count": 0,
      "outputs": []
    },
    {
      "cell_type": "code",
      "metadata": {
        "id": "vbTqwbCYaL17",
        "colab_type": "code",
        "colab": {}
      },
      "source": [
        ""
      ],
      "execution_count": 0,
      "outputs": []
    },
    {
      "cell_type": "code",
      "metadata": {
        "id": "4AOtdvD0aL46",
        "colab_type": "code",
        "colab": {}
      },
      "source": [
        ""
      ],
      "execution_count": 0,
      "outputs": []
    },
    {
      "cell_type": "code",
      "metadata": {
        "id": "V75fkTMEaL77",
        "colab_type": "code",
        "colab": {}
      },
      "source": [
        ""
      ],
      "execution_count": 0,
      "outputs": []
    },
    {
      "cell_type": "markdown",
      "metadata": {
        "id": "qSyeYy_faMGR",
        "colab_type": "text"
      },
      "source": [
        ""
      ]
    },
    {
      "cell_type": "markdown",
      "metadata": {
        "id": "m_AzOisOaMJN",
        "colab_type": "text"
      },
      "source": [
        ""
      ]
    },
    {
      "cell_type": "markdown",
      "metadata": {
        "id": "vb7gLt38aMLz",
        "colab_type": "text"
      },
      "source": [
        ""
      ]
    },
    {
      "cell_type": "markdown",
      "metadata": {
        "id": "EYXCMpZJaMOl",
        "colab_type": "text"
      },
      "source": [
        ""
      ]
    },
    {
      "cell_type": "markdown",
      "metadata": {
        "id": "ZSkqiNxcaMRC",
        "colab_type": "text"
      },
      "source": [
        ""
      ]
    },
    {
      "cell_type": "markdown",
      "metadata": {
        "id": "7KPCTA02aMT3",
        "colab_type": "text"
      },
      "source": [
        ""
      ]
    },
    {
      "cell_type": "markdown",
      "metadata": {
        "id": "0rOkO7jbaMWr",
        "colab_type": "text"
      },
      "source": [
        "**Pytorch_Resnet18_CS280_HW1**"
      ]
    },
    {
      "cell_type": "code",
      "metadata": {
        "id": "dc8Ssew9aR4y",
        "colab_type": "code",
        "colab": {}
      },
      "source": [
        "import torch\n",
        "import torch.nn as nn\n",
        "import torch.nn.functional as F"
      ],
      "execution_count": 0,
      "outputs": []
    },
    {
      "cell_type": "code",
      "metadata": {
        "id": "O8MemI2qaWUN",
        "colab_type": "code",
        "colab": {}
      },
      "source": [
        "class BasicBlock(nn.Module):\n",
        "    expansion = 1\n",
        "\n",
        "    def __init__(self, in_planes, planes, stride=1):\n",
        "        super(BasicBlock, self).__init__()\n",
        "        self.conv1 = nn.Conv2d(in_planes, planes, kernel_size=3, stride=stride, padding=1, bias=False)\n",
        "        self.bn1 = nn.BatchNorm2d(planes)\n",
        "        self.conv2 = nn.Conv2d(planes, planes, kernel_size=3, stride=1, padding=1, bias=False)\n",
        "        self.bn2 = nn.BatchNorm2d(planes)\n",
        "\n",
        "        self.shortcut = nn.Sequential()\n",
        "        if stride != 1 or in_planes != self.expansion*planes:\n",
        "            self.shortcut = nn.Sequential(\n",
        "                nn.Conv2d(in_planes, self.expansion*planes, kernel_size=1, stride=stride, bias=False),\n",
        "                nn.BatchNorm2d(self.expansion*planes)\n",
        "            )\n",
        "\n",
        "    def forward(self, x):\n",
        "        out = F.relu(self.bn1(self.conv1(x)))\n",
        "        out = self.bn2(self.conv2(out))\n",
        "        out += self.shortcut(x)\n",
        "        out = F.relu(out)\n",
        "        return out\n",
        "\n"
      ],
      "execution_count": 0,
      "outputs": []
    },
    {
      "cell_type": "code",
      "metadata": {
        "id": "VQGX5XwUaa6U",
        "colab_type": "code",
        "colab": {}
      },
      "source": [
        "class Bottleneck(nn.Module):\n",
        "    expansion = 4\n",
        "\n",
        "    def __init__(self, in_planes, planes, stride=1):\n",
        "        super(Bottleneck, self).__init__()\n",
        "        self.conv1 = nn.Conv2d(in_planes, planes, kernel_size=1, bias=False)\n",
        "        self.bn1 = nn.BatchNorm2d(planes)\n",
        "        self.conv2 = nn.Conv2d(planes, planes, kernel_size=3, stride=stride, padding=1, bias=False)\n",
        "        self.bn2 = nn.BatchNorm2d(planes)\n",
        "        self.conv3 = nn.Conv2d(planes, self.expansion*planes, kernel_size=1, bias=False)\n",
        "        self.bn3 = nn.BatchNorm2d(self.expansion*planes)\n",
        "\n",
        "        self.shortcut = nn.Sequential()\n",
        "        if stride != 1 or in_planes != self.expansion*planes:\n",
        "            self.shortcut = nn.Sequential(\n",
        "                nn.Conv2d(in_planes, self.expansion*planes, kernel_size=1, stride=stride, bias=False),\n",
        "                nn.BatchNorm2d(self.expansion*planes)\n",
        "            )\n",
        "\n",
        "    def forward(self, x):\n",
        "        out = F.relu(self.bn1(self.conv1(x)))\n",
        "        out = F.relu(self.bn2(self.conv2(out)))\n",
        "        out = self.bn3(self.conv3(out))\n",
        "        out += self.shortcut(x)\n",
        "        out = F.relu(out)\n",
        "        return out"
      ],
      "execution_count": 0,
      "outputs": []
    },
    {
      "cell_type": "code",
      "metadata": {
        "id": "OTUfkZDgamGl",
        "colab_type": "code",
        "colab": {}
      },
      "source": [
        "class ResNet(nn.Module):\n",
        "    def __init__(self, block, num_blocks, num_classes=10):\n",
        "        super(ResNet, self).__init__()\n",
        "        self.in_planes = 64\n",
        "\n",
        "        self.conv1 = nn.Conv2d(3, 64, kernel_size=3, stride=1, padding=1, bias=False)\n",
        "        self.bn1 = nn.BatchNorm2d(64)\n",
        "        self.layer1 = self._make_layer(block, 64, num_blocks[0], stride=1)\n",
        "        self.layer2 = self._make_layer(block, 128, num_blocks[1], stride=2)\n",
        "        self.layer3 = self._make_layer(block, 256, num_blocks[2], stride=2)\n",
        "        self.layer4 = self._make_layer(block, 512, num_blocks[3], stride=2)\n",
        "        self.linear = nn.Linear(512*block.expansion, num_classes)\n",
        "\n",
        "    def _make_layer(self, block, planes, num_blocks, stride):\n",
        "        strides = [stride] + [1]*(num_blocks-1)\n",
        "        layers = []\n",
        "        for stride in strides:\n",
        "            layers.append(block(self.in_planes, planes, stride))\n",
        "            self.in_planes = planes * block.expansion\n",
        "        return nn.Sequential(*layers)\n",
        "\n",
        "    def forward(self, x):\n",
        "        out = F.relu(self.bn1(self.conv1(x)))\n",
        "        out = self.layer1(out)\n",
        "        out = self.layer2(out)\n",
        "        out = self.layer3(out)\n",
        "        out = self.layer4(out)\n",
        "        out = F.avg_pool2d(out, 4)\n",
        "        out = out.view(out.size(0), -1)\n",
        "        out = self.linear(out)\n",
        "        return out"
      ],
      "execution_count": 0,
      "outputs": []
    },
    {
      "cell_type": "code",
      "metadata": {
        "id": "bcHAiWWoaoo_",
        "colab_type": "code",
        "colab": {}
      },
      "source": [
        "def ResNet18():\n",
        "    return ResNet(BasicBlock, [2,2,2,2])"
      ],
      "execution_count": 0,
      "outputs": []
    },
    {
      "cell_type": "markdown",
      "metadata": {
        "id": "hX_Fqrtrau2z",
        "colab_type": "text"
      },
      "source": [
        "**Train CIFAR 10 with Pytorch**"
      ]
    },
    {
      "cell_type": "code",
      "metadata": {
        "id": "mWsGs8GEarMI",
        "colab_type": "code",
        "colab": {
          "base_uri": "https://localhost:8080/",
          "height": 154,
          "referenced_widgets": [
            "4af61682b8e2423195f148bc13cce0d1",
            "bf7169c132734717ae3e8afcf8f38900",
            "7d351c4d60194401817769d18c8b5d4a",
            "4a3f776f35124c20b2013075906e6310",
            "2835e1a338444092a3b20bcdd1bed430",
            "7e7ca5bd246048a892d082d09fdf6526",
            "b7c1b3087b6e43f3a2e6ac1777f4e59b",
            "b2d9cbed341e46939e71a17481ce80fd"
          ]
        },
        "outputId": "e4c43bdf-0f37-4572-dc17-4f8b9b816a6d"
      },
      "source": [
        "'''Train CIFAR10 with PyTorch.'''\n",
        "import torch\n",
        "import torch.nn as nn\n",
        "import torch.optim as optim\n",
        "import torch.nn.functional as F\n",
        "import torch.backends.cudnn as cudnn\n",
        "\n",
        "import torchvision\n",
        "import torchvision.transforms as transforms\n",
        "\n",
        "from torch.optim.lr_scheduler import CyclicLR, ReduceLROnPlateau\n",
        "\n",
        "import os\n",
        "import argparse\n",
        "\n",
        "lr = 0.1\n",
        "\n",
        "device = 'cuda' if torch.cuda.is_available() else 'cpu'\n",
        "best_acc = 0  # best test accuracy\n",
        "start_epoch = 0  # start from epoch 0 or last checkpoint epoch\n",
        "\n",
        "# Data\n",
        "print('==> Preparing data..')\n",
        "transform_train = transforms.Compose([\n",
        "    transforms.RandomCrop(32, padding=4),\n",
        "    transforms.RandomHorizontalFlip(),\n",
        "    transforms.ToTensor(),\n",
        "    transforms.Normalize((0.4914, 0.4822, 0.4465), (0.2023, 0.1994, 0.2010)),\n",
        "])\n",
        "\n",
        "transform_test = transforms.Compose([\n",
        "    transforms.ToTensor(),\n",
        "    transforms.Normalize((0.4914, 0.4822, 0.4465), (0.2023, 0.1994, 0.2010)),\n",
        "])\n",
        "\n",
        "## 1.. Dataset: Obtain the CIFAR-10 dataset. \n",
        "trainset = torchvision.datasets.CIFAR10(root='./data', train=True, download=True, transform=transform_train)\n",
        "trainloader = torch.utils.data.DataLoader(trainset, batch_size=128, shuffle=True, num_workers=2)\n",
        "\n",
        "testset = torchvision.datasets.CIFAR10(root='./data', train=False, download=True, transform=transform_test)\n",
        "testloader = torch.utils.data.DataLoader(testset, batch_size=100, shuffle=False, num_workers=2)"
      ],
      "execution_count": 2,
      "outputs": [
        {
          "output_type": "stream",
          "text": [
            "==> Preparing data..\n",
            "Downloading https://www.cs.toronto.edu/~kriz/cifar-10-python.tar.gz to ./data/cifar-10-python.tar.gz\n"
          ],
          "name": "stdout"
        },
        {
          "output_type": "display_data",
          "data": {
            "application/vnd.jupyter.widget-view+json": {
              "model_id": "4af61682b8e2423195f148bc13cce0d1",
              "version_minor": 0,
              "version_major": 2
            },
            "text/plain": [
              "HBox(children=(IntProgress(value=1, bar_style='info', max=1), HTML(value='')))"
            ]
          },
          "metadata": {
            "tags": []
          }
        },
        {
          "output_type": "stream",
          "text": [
            "\n",
            "Extracting ./data/cifar-10-python.tar.gz to ./data\n",
            "Files already downloaded and verified\n"
          ],
          "name": "stdout"
        }
      ]
    },
    {
      "cell_type": "code",
      "metadata": {
        "id": "d3W7_MQQazcg",
        "colab_type": "code",
        "colab": {
          "base_uri": "https://localhost:8080/",
          "height": 34
        },
        "outputId": "557d025e-0ae2-4b4c-eec8-ec17f69802c8"
      },
      "source": [
        "classes = ('plane', 'car', 'bird', 'cat', 'deer', 'dog', 'frog', 'horse', 'ship', 'truck')\n",
        "\n",
        "# Model\n",
        "print('==> Building model..')\n",
        "net = ResNet18()\n",
        "net = net.to(device)\n",
        "if device == 'cuda':\n",
        "    net = torch.nn.DataParallel(net)\n",
        "    cudnn.benchmark = True"
      ],
      "execution_count": 9,
      "outputs": [
        {
          "output_type": "stream",
          "text": [
            "==> Building model..\n"
          ],
          "name": "stdout"
        }
      ]
    },
    {
      "cell_type": "code",
      "metadata": {
        "id": "V_GNUnh1a4T-",
        "colab_type": "code",
        "colab": {}
      },
      "source": [
        ""
      ],
      "execution_count": 0,
      "outputs": []
    },
    {
      "cell_type": "code",
      "metadata": {
        "id": "3wivlYVpbH5l",
        "colab_type": "code",
        "colab": {
          "base_uri": "https://localhost:8080/",
          "height": 1000
        },
        "outputId": "2d990672-1ccd-4c25-9a81-98ded1519a5c"
      },
      "source": [
        "import time\n",
        "\n",
        "criterion = nn.CrossEntropyLoss()\n",
        "optimizer = optim.SGD(net.parameters(), lr=lr, momentum=0.9, weight_decay=5e-4)\n",
        "scheduler = ReduceLROnPlateau(optimizer, 'min')\n",
        "\n",
        "\n",
        "pytorch_total_params = sum(p.numel() for p in net.parameters())\n",
        "pytorch_total_params_trainable = sum(p.numel() for p in net.parameters() if p.requires_grad)\n",
        "print(\"pytorch_total_params\",pytorch_total_params)\n",
        "print(\"pytorch_total_params_trainable\",pytorch_total_params_trainable)\n",
        "\n",
        "\n",
        "# Training\n",
        "def train(epoch):\n",
        "    print('\\nEpoch: %d' % epoch)\n",
        "    net.train()\n",
        "    train_loss = 0\n",
        "    correct = 0\n",
        "    total = 0\n",
        "    start_time = time.time()\n",
        "    for batch_idx, (inputs, targets) in enumerate(trainloader):\n",
        "        inputs, targets = inputs.to(device), targets.to(device)\n",
        "        optimizer.zero_grad()\n",
        "        outputs = net(inputs)\n",
        "        loss = criterion(outputs, targets)\n",
        "        loss.backward()\n",
        "        optimizer.step()\n",
        "        \n",
        "\n",
        "        train_loss += loss.item()\n",
        "        _, predicted = outputs.max(1)\n",
        "        total += targets.size(0)\n",
        "        correct += predicted.eq(targets).sum().item()\n",
        "\n",
        "    print(\"total train iters \", len(trainloader), '| time: %.3f sec Loss: %.3f | Acc: %.3f%% (%d/%d)'\n",
        "        % ((time.time()-start_time), train_loss/(batch_idx+1), 100.*correct/total, correct, total))\n",
        "\n",
        "start_time = time.time()\n",
        "def test(epoch):\n",
        "    global best_acc\n",
        "    net.eval()\n",
        "    test_loss = 0\n",
        "    correct = 0\n",
        "    total = 0\n",
        "    with torch.no_grad():\n",
        "        for batch_idx, (inputs, targets) in enumerate(testloader):\n",
        "            inputs, targets = inputs.to(device), targets.to(device)\n",
        "            outputs = net(inputs)\n",
        "            loss = criterion(outputs, targets)\n",
        "\n",
        "            test_loss += loss.item()\n",
        "            _, predicted = outputs.max(1)\n",
        "            total += targets.size(0)\n",
        "            correct += predicted.eq(targets).sum().item()\n",
        "        scheduler.step(test_loss) \n",
        "        print(\"total test iters \", len(testloader), '| time: %.3f sec Loss: %.3f | Acc: %.3f%% (%d/%d)'\n",
        "        % ((time.time()-start_time), test_loss/(batch_idx+1), 100.*correct/total, correct, total))\n",
        "\n",
        "    \n",
        "\n",
        "for epoch in range(start_epoch, start_epoch+100):\n",
        "    train(epoch)\n",
        "    test(epoch)"
      ],
      "execution_count": 10,
      "outputs": [
        {
          "output_type": "stream",
          "text": [
            "pytorch_total_params 11173962\n",
            "pytorch_total_params_trainable 11173962\n",
            "\n",
            "Epoch: 0\n",
            "total train iters  391 | time: 46.606 sec Loss: 1.792 | Acc: 34.246% (17123/50000)\n",
            "total test iters  100 | time: 50.060 sec Loss: 1.504 | Acc: 44.270% (4427/10000)\n",
            "\n",
            "Epoch: 1\n",
            "total train iters  391 | time: 45.151 sec Loss: 1.355 | Acc: 50.468% (25234/50000)\n",
            "total test iters  100 | time: 98.303 sec Loss: 1.183 | Acc: 57.820% (5782/10000)\n",
            "\n",
            "Epoch: 2\n",
            "total train iters  391 | time: 45.742 sec Loss: 1.075 | Acc: 61.734% (30867/50000)\n",
            "total test iters  100 | time: 147.186 sec Loss: 1.057 | Acc: 63.600% (6360/10000)\n",
            "\n",
            "Epoch: 3\n",
            "total train iters  391 | time: 46.041 sec Loss: 0.864 | Acc: 69.544% (34772/50000)\n",
            "total test iters  100 | time: 196.483 sec Loss: 0.937 | Acc: 67.890% (6789/10000)\n",
            "\n",
            "Epoch: 4\n",
            "total train iters  391 | time: 46.672 sec Loss: 0.728 | Acc: 74.874% (37437/50000)\n",
            "total test iters  100 | time: 246.355 sec Loss: 0.826 | Acc: 72.320% (7232/10000)\n",
            "\n",
            "Epoch: 5\n",
            "total train iters  391 | time: 46.457 sec Loss: 0.631 | Acc: 78.054% (39027/50000)\n",
            "total test iters  100 | time: 296.070 sec Loss: 0.689 | Acc: 75.940% (7594/10000)\n",
            "\n",
            "Epoch: 6\n",
            "total train iters  391 | time: 46.917 sec Loss: 0.575 | Acc: 80.022% (40011/50000)\n",
            "total test iters  100 | time: 346.106 sec Loss: 0.730 | Acc: 75.080% (7508/10000)\n",
            "\n",
            "Epoch: 7\n",
            "total train iters  391 | time: 46.803 sec Loss: 0.534 | Acc: 81.630% (40815/50000)\n",
            "total test iters  100 | time: 396.137 sec Loss: 0.771 | Acc: 73.760% (7376/10000)\n",
            "\n",
            "Epoch: 8\n",
            "total train iters  391 | time: 46.708 sec Loss: 0.507 | Acc: 82.652% (41326/50000)\n",
            "total test iters  100 | time: 446.033 sec Loss: 0.605 | Acc: 79.480% (7948/10000)\n",
            "\n",
            "Epoch: 9\n",
            "total train iters  391 | time: 46.605 sec Loss: 0.495 | Acc: 82.932% (41466/50000)\n",
            "total test iters  100 | time: 495.848 sec Loss: 0.527 | Acc: 82.360% (8236/10000)\n",
            "\n",
            "Epoch: 10\n",
            "total train iters  391 | time: 46.420 sec Loss: 0.474 | Acc: 83.746% (41873/50000)\n",
            "total test iters  100 | time: 545.410 sec Loss: 0.647 | Acc: 78.440% (7844/10000)\n",
            "\n",
            "Epoch: 11\n",
            "total train iters  391 | time: 46.486 sec Loss: 0.453 | Acc: 84.396% (42198/50000)\n",
            "total test iters  100 | time: 595.092 sec Loss: 0.576 | Acc: 80.470% (8047/10000)\n",
            "\n",
            "Epoch: 12\n",
            "total train iters  391 | time: 46.654 sec Loss: 0.444 | Acc: 84.818% (42409/50000)\n",
            "total test iters  100 | time: 644.919 sec Loss: 0.585 | Acc: 81.260% (8126/10000)\n",
            "\n",
            "Epoch: 13\n",
            "total train iters  391 | time: 46.703 sec Loss: 0.427 | Acc: 85.392% (42696/50000)\n",
            "total test iters  100 | time: 694.877 sec Loss: 0.521 | Acc: 82.430% (8243/10000)\n",
            "\n",
            "Epoch: 14\n",
            "total train iters  391 | time: 46.595 sec Loss: 0.419 | Acc: 85.738% (42869/50000)\n",
            "total test iters  100 | time: 744.667 sec Loss: 0.613 | Acc: 79.900% (7990/10000)\n",
            "\n",
            "Epoch: 15\n",
            "total train iters  391 | time: 46.661 sec Loss: 0.408 | Acc: 86.042% (43021/50000)\n",
            "total test iters  100 | time: 794.455 sec Loss: 0.574 | Acc: 80.640% (8064/10000)\n",
            "\n",
            "Epoch: 16\n",
            "total train iters  391 | time: 46.829 sec Loss: 0.401 | Acc: 86.210% (43105/50000)\n",
            "total test iters  100 | time: 844.419 sec Loss: 0.608 | Acc: 80.750% (8075/10000)\n",
            "\n",
            "Epoch: 17\n",
            "total train iters  391 | time: 46.781 sec Loss: 0.395 | Acc: 86.506% (43253/50000)\n",
            "total test iters  100 | time: 894.396 sec Loss: 0.546 | Acc: 81.990% (8199/10000)\n",
            "\n",
            "Epoch: 18\n",
            "total train iters  391 | time: 46.499 sec Loss: 0.394 | Acc: 86.548% (43274/50000)\n",
            "total test iters  100 | time: 944.066 sec Loss: 0.546 | Acc: 81.840% (8184/10000)\n",
            "\n",
            "Epoch: 19\n",
            "total train iters  391 | time: 46.478 sec Loss: 0.387 | Acc: 86.768% (43384/50000)\n",
            "total test iters  100 | time: 993.771 sec Loss: 0.449 | Acc: 85.230% (8523/10000)\n",
            "\n",
            "Epoch: 20\n",
            "total train iters  391 | time: 46.485 sec Loss: 0.384 | Acc: 86.978% (43489/50000)\n",
            "total test iters  100 | time: 1043.499 sec Loss: 0.462 | Acc: 85.000% (8500/10000)\n",
            "\n",
            "Epoch: 21\n",
            "total train iters  391 | time: 46.591 sec Loss: 0.371 | Acc: 87.360% (43680/50000)\n",
            "total test iters  100 | time: 1093.325 sec Loss: 0.588 | Acc: 80.750% (8075/10000)\n",
            "\n",
            "Epoch: 22\n",
            "total train iters  391 | time: 46.583 sec Loss: 0.375 | Acc: 87.070% (43535/50000)\n",
            "total test iters  100 | time: 1143.114 sec Loss: 0.493 | Acc: 83.510% (8351/10000)\n",
            "\n",
            "Epoch: 23\n",
            "total train iters  391 | time: 46.605 sec Loss: 0.364 | Acc: 87.660% (43830/50000)\n",
            "total test iters  100 | time: 1192.946 sec Loss: 0.627 | Acc: 79.700% (7970/10000)\n",
            "\n",
            "Epoch: 24\n",
            "total train iters  391 | time: 46.503 sec Loss: 0.361 | Acc: 87.776% (43888/50000)\n",
            "total test iters  100 | time: 1242.610 sec Loss: 0.497 | Acc: 83.260% (8326/10000)\n",
            "\n",
            "Epoch: 25\n",
            "total train iters  391 | time: 46.579 sec Loss: 0.362 | Acc: 87.502% (43751/50000)\n",
            "total test iters  100 | time: 1292.466 sec Loss: 0.563 | Acc: 81.600% (8160/10000)\n",
            "\n",
            "Epoch: 26\n",
            "total train iters  391 | time: 46.469 sec Loss: 0.356 | Acc: 87.850% (43925/50000)\n",
            "total test iters  100 | time: 1342.148 sec Loss: 0.491 | Acc: 83.660% (8366/10000)\n",
            "\n",
            "Epoch: 27\n",
            "total train iters  391 | time: 46.422 sec Loss: 0.359 | Acc: 87.780% (43890/50000)\n",
            "total test iters  100 | time: 1391.697 sec Loss: 0.448 | Acc: 84.910% (8491/10000)\n",
            "\n",
            "Epoch: 28\n",
            "total train iters  391 | time: 46.579 sec Loss: 0.353 | Acc: 88.040% (44020/50000)\n",
            "total test iters  100 | time: 1441.464 sec Loss: 0.584 | Acc: 81.980% (8198/10000)\n",
            "\n",
            "Epoch: 29\n",
            "total train iters  391 | time: 46.622 sec Loss: 0.355 | Acc: 87.776% (43888/50000)\n",
            "total test iters  100 | time: 1491.281 sec Loss: 0.388 | Acc: 86.410% (8641/10000)\n",
            "\n",
            "Epoch: 30\n",
            "total train iters  391 | time: 46.450 sec Loss: 0.350 | Acc: 88.078% (44039/50000)\n",
            "total test iters  100 | time: 1540.986 sec Loss: 0.435 | Acc: 85.420% (8542/10000)\n",
            "\n",
            "Epoch: 31\n",
            "total train iters  391 | time: 46.502 sec Loss: 0.348 | Acc: 88.136% (44068/50000)\n",
            "total test iters  100 | time: 1590.804 sec Loss: 0.538 | Acc: 82.110% (8211/10000)\n",
            "\n",
            "Epoch: 32\n",
            "total train iters  391 | time: 46.472 sec Loss: 0.348 | Acc: 88.186% (44093/50000)\n",
            "total test iters  100 | time: 1640.460 sec Loss: 0.582 | Acc: 81.050% (8105/10000)\n",
            "\n",
            "Epoch: 33\n",
            "total train iters  391 | time: 46.390 sec Loss: 0.344 | Acc: 88.308% (44154/50000)\n",
            "total test iters  100 | time: 1690.064 sec Loss: 0.534 | Acc: 83.430% (8343/10000)\n",
            "\n",
            "Epoch: 34\n",
            "total train iters  391 | time: 46.639 sec Loss: 0.344 | Acc: 88.238% (44119/50000)\n",
            "total test iters  100 | time: 1739.878 sec Loss: 0.508 | Acc: 83.130% (8313/10000)\n",
            "\n",
            "Epoch: 35\n",
            "total train iters  391 | time: 46.406 sec Loss: 0.344 | Acc: 88.180% (44090/50000)\n",
            "total test iters  100 | time: 1789.516 sec Loss: 0.463 | Acc: 84.630% (8463/10000)\n",
            "\n",
            "Epoch: 36\n",
            "total train iters  391 | time: 46.367 sec Loss: 0.345 | Acc: 88.156% (44078/50000)\n",
            "total test iters  100 | time: 1839.053 sec Loss: 0.641 | Acc: 79.780% (7978/10000)\n",
            "\n",
            "Epoch: 37\n",
            "total train iters  391 | time: 46.612 sec Loss: 0.339 | Acc: 88.432% (44216/50000)\n",
            "total test iters  100 | time: 1888.891 sec Loss: 0.483 | Acc: 84.230% (8423/10000)\n",
            "\n",
            "Epoch: 38\n",
            "total train iters  391 | time: 46.529 sec Loss: 0.349 | Acc: 88.072% (44036/50000)\n",
            "total test iters  100 | time: 1938.650 sec Loss: 0.651 | Acc: 78.830% (7883/10000)\n",
            "\n",
            "Epoch: 39\n",
            "total train iters  391 | time: 46.470 sec Loss: 0.340 | Acc: 88.426% (44213/50000)\n",
            "total test iters  100 | time: 1988.304 sec Loss: 0.595 | Acc: 81.700% (8170/10000)\n",
            "\n",
            "Epoch: 40\n",
            "total train iters  391 | time: 46.479 sec Loss: 0.340 | Acc: 88.448% (44224/50000)\n",
            "total test iters  100 | time: 2037.966 sec Loss: 0.546 | Acc: 82.240% (8224/10000)\n",
            "\n",
            "Epoch: 41\n",
            "total train iters  391 | time: 46.586 sec Loss: 0.182 | Acc: 93.962% (46981/50000)\n",
            "total test iters  100 | time: 2087.734 sec Loss: 0.225 | Acc: 92.180% (9218/10000)\n",
            "\n",
            "Epoch: 42\n",
            "total train iters  391 | time: 46.536 sec Loss: 0.134 | Acc: 95.524% (47762/50000)\n",
            "total test iters  100 | time: 2137.513 sec Loss: 0.220 | Acc: 92.700% (9270/10000)\n",
            "\n",
            "Epoch: 43\n",
            "total train iters  391 | time: 46.563 sec Loss: 0.116 | Acc: 96.132% (48066/50000)\n",
            "total test iters  100 | time: 2187.288 sec Loss: 0.204 | Acc: 93.250% (9325/10000)\n",
            "\n",
            "Epoch: 44\n",
            "total train iters  391 | time: 46.747 sec Loss: 0.101 | Acc: 96.612% (48306/50000)\n",
            "total test iters  100 | time: 2237.236 sec Loss: 0.218 | Acc: 92.990% (9299/10000)\n",
            "\n",
            "Epoch: 45\n",
            "total train iters  391 | time: 46.535 sec Loss: 0.090 | Acc: 97.018% (48509/50000)\n",
            "total test iters  100 | time: 2287.025 sec Loss: 0.205 | Acc: 93.300% (9330/10000)\n",
            "\n",
            "Epoch: 46\n",
            "total train iters  391 | time: 46.484 sec Loss: 0.080 | Acc: 97.350% (48675/50000)\n",
            "total test iters  100 | time: 2336.713 sec Loss: 0.208 | Acc: 93.210% (9321/10000)\n",
            "\n",
            "Epoch: 47\n",
            "total train iters  391 | time: 46.430 sec Loss: 0.072 | Acc: 97.624% (48812/50000)\n",
            "total test iters  100 | time: 2386.335 sec Loss: 0.212 | Acc: 93.390% (9339/10000)\n",
            "\n",
            "Epoch: 48\n",
            "total train iters  391 | time: 46.656 sec Loss: 0.066 | Acc: 97.788% (48894/50000)\n",
            "total test iters  100 | time: 2436.218 sec Loss: 0.212 | Acc: 93.300% (9330/10000)\n",
            "\n",
            "Epoch: 49\n",
            "total train iters  391 | time: 46.742 sec Loss: 0.059 | Acc: 98.030% (49015/50000)\n",
            "total test iters  100 | time: 2486.182 sec Loss: 0.217 | Acc: 93.110% (9311/10000)\n",
            "\n",
            "Epoch: 50\n",
            "total train iters  391 | time: 46.580 sec Loss: 0.057 | Acc: 98.136% (49068/50000)\n",
            "total test iters  100 | time: 2535.986 sec Loss: 0.222 | Acc: 93.080% (9308/10000)\n",
            "\n",
            "Epoch: 51\n",
            "total train iters  391 | time: 46.651 sec Loss: 0.051 | Acc: 98.416% (49208/50000)\n",
            "total test iters  100 | time: 2585.841 sec Loss: 0.227 | Acc: 93.080% (9308/10000)\n",
            "\n",
            "Epoch: 52\n",
            "total train iters  391 | time: 46.554 sec Loss: 0.048 | Acc: 98.390% (49195/50000)\n",
            "total test iters  100 | time: 2635.618 sec Loss: 0.221 | Acc: 93.520% (9352/10000)\n",
            "\n",
            "Epoch: 53\n",
            "total train iters  391 | time: 46.365 sec Loss: 0.045 | Acc: 98.590% (49295/50000)\n",
            "total test iters  100 | time: 2685.176 sec Loss: 0.253 | Acc: 92.660% (9266/10000)\n",
            "\n",
            "Epoch: 54\n",
            "total train iters  391 | time: 46.409 sec Loss: 0.042 | Acc: 98.702% (49351/50000)\n",
            "total test iters  100 | time: 2734.856 sec Loss: 0.227 | Acc: 93.300% (9330/10000)\n",
            "\n",
            "Epoch: 55\n",
            "total train iters  391 | time: 46.627 sec Loss: 0.030 | Acc: 99.134% (49567/50000)\n",
            "total test iters  100 | time: 2784.671 sec Loss: 0.207 | Acc: 93.910% (9391/10000)\n",
            "\n",
            "Epoch: 56\n",
            "total train iters  391 | time: 46.685 sec Loss: 0.024 | Acc: 99.362% (49681/50000)\n",
            "total test iters  100 | time: 2834.570 sec Loss: 0.206 | Acc: 94.010% (9401/10000)\n",
            "\n",
            "Epoch: 57\n",
            "total train iters  391 | time: 46.765 sec Loss: 0.020 | Acc: 99.436% (49718/50000)\n",
            "total test iters  100 | time: 2884.578 sec Loss: 0.207 | Acc: 93.990% (9399/10000)\n",
            "\n",
            "Epoch: 58\n",
            "total train iters  391 | time: 46.528 sec Loss: 0.019 | Acc: 99.516% (49758/50000)\n",
            "total test iters  100 | time: 2934.358 sec Loss: 0.209 | Acc: 93.880% (9388/10000)\n",
            "\n",
            "Epoch: 59\n",
            "total train iters  391 | time: 46.666 sec Loss: 0.018 | Acc: 99.546% (49773/50000)\n",
            "total test iters  100 | time: 2984.169 sec Loss: 0.208 | Acc: 94.010% (9401/10000)\n",
            "\n",
            "Epoch: 60\n",
            "total train iters  391 | time: 46.805 sec Loss: 0.018 | Acc: 99.562% (49781/50000)\n",
            "total test iters  100 | time: 3034.181 sec Loss: 0.207 | Acc: 94.100% (9410/10000)\n",
            "\n",
            "Epoch: 61\n",
            "total train iters  391 | time: 46.401 sec Loss: 0.016 | Acc: 99.618% (49809/50000)\n",
            "total test iters  100 | time: 3083.773 sec Loss: 0.206 | Acc: 94.140% (9414/10000)\n",
            "\n",
            "Epoch: 62\n",
            "total train iters  391 | time: 46.787 sec Loss: 0.016 | Acc: 99.626% (49813/50000)\n",
            "total test iters  100 | time: 3133.849 sec Loss: 0.210 | Acc: 93.970% (9397/10000)\n",
            "\n",
            "Epoch: 63\n",
            "total train iters  391 | time: 46.558 sec Loss: 0.015 | Acc: 99.632% (49816/50000)\n",
            "total test iters  100 | time: 3183.618 sec Loss: 0.207 | Acc: 94.020% (9402/10000)\n",
            "\n",
            "Epoch: 64\n",
            "total train iters  391 | time: 46.670 sec Loss: 0.014 | Acc: 99.688% (49844/50000)\n",
            "total test iters  100 | time: 3233.600 sec Loss: 0.209 | Acc: 93.920% (9392/10000)\n",
            "\n",
            "Epoch: 65\n",
            "total train iters  391 | time: 46.571 sec Loss: 0.014 | Acc: 99.694% (49847/50000)\n",
            "total test iters  100 | time: 3283.381 sec Loss: 0.211 | Acc: 94.120% (9412/10000)\n",
            "\n",
            "Epoch: 66\n",
            "total train iters  391 | time: 46.856 sec Loss: 0.013 | Acc: 99.712% (49856/50000)\n",
            "total test iters  100 | time: 3333.491 sec Loss: 0.210 | Acc: 94.130% (9413/10000)\n",
            "\n",
            "Epoch: 67\n",
            "total train iters  391 | time: 46.537 sec Loss: 0.013 | Acc: 99.708% (49854/50000)\n",
            "total test iters  100 | time: 3383.210 sec Loss: 0.211 | Acc: 94.150% (9415/10000)\n",
            "\n",
            "Epoch: 68\n",
            "total train iters  391 | time: 46.653 sec Loss: 0.013 | Acc: 99.676% (49838/50000)\n",
            "total test iters  100 | time: 3433.043 sec Loss: 0.209 | Acc: 94.000% (9400/10000)\n",
            "\n",
            "Epoch: 69\n",
            "total train iters  391 | time: 46.492 sec Loss: 0.013 | Acc: 99.706% (49853/50000)\n",
            "total test iters  100 | time: 3482.714 sec Loss: 0.207 | Acc: 94.180% (9418/10000)\n",
            "\n",
            "Epoch: 70\n",
            "total train iters  391 | time: 46.301 sec Loss: 0.013 | Acc: 99.728% (49864/50000)\n",
            "total test iters  100 | time: 3532.204 sec Loss: 0.208 | Acc: 94.170% (9417/10000)\n",
            "\n",
            "Epoch: 71\n",
            "total train iters  391 | time: 46.470 sec Loss: 0.013 | Acc: 99.724% (49862/50000)\n",
            "total test iters  100 | time: 3581.810 sec Loss: 0.211 | Acc: 94.100% (9410/10000)\n",
            "\n",
            "Epoch: 72\n",
            "total train iters  391 | time: 46.680 sec Loss: 0.013 | Acc: 99.738% (49869/50000)\n",
            "total test iters  100 | time: 3631.689 sec Loss: 0.209 | Acc: 94.110% (9411/10000)\n",
            "\n",
            "Epoch: 73\n",
            "total train iters  391 | time: 46.501 sec Loss: 0.014 | Acc: 99.662% (49831/50000)\n",
            "total test iters  100 | time: 3681.423 sec Loss: 0.210 | Acc: 94.070% (9407/10000)\n",
            "\n",
            "Epoch: 74\n",
            "total train iters  391 | time: 46.661 sec Loss: 0.013 | Acc: 99.716% (49858/50000)\n",
            "total test iters  100 | time: 3731.254 sec Loss: 0.208 | Acc: 94.090% (9409/10000)\n",
            "\n",
            "Epoch: 75\n",
            "total train iters  391 | time: 46.492 sec Loss: 0.013 | Acc: 99.690% (49845/50000)\n",
            "total test iters  100 | time: 3780.972 sec Loss: 0.208 | Acc: 94.100% (9410/10000)\n",
            "\n",
            "Epoch: 76\n",
            "total train iters  391 | time: 46.702 sec Loss: 0.012 | Acc: 99.744% (49872/50000)\n",
            "total test iters  100 | time: 3830.817 sec Loss: 0.208 | Acc: 94.160% (9416/10000)\n",
            "\n",
            "Epoch: 77\n",
            "total train iters  391 | time: 46.518 sec Loss: 0.013 | Acc: 99.722% (49861/50000)\n",
            "total test iters  100 | time: 3880.512 sec Loss: 0.209 | Acc: 94.180% (9418/10000)\n",
            "\n",
            "Epoch: 78\n",
            "total train iters  391 | time: 46.555 sec Loss: 0.013 | Acc: 99.742% (49871/50000)\n",
            "total test iters  100 | time: 3930.326 sec Loss: 0.208 | Acc: 94.120% (9412/10000)\n",
            "\n",
            "Epoch: 79\n",
            "total train iters  391 | time: 46.629 sec Loss: 0.012 | Acc: 99.754% (49877/50000)\n",
            "total test iters  100 | time: 3980.162 sec Loss: 0.212 | Acc: 93.970% (9397/10000)\n",
            "\n",
            "Epoch: 80\n",
            "total train iters  391 | time: 46.725 sec Loss: 0.013 | Acc: 99.712% (49856/50000)\n",
            "total test iters  100 | time: 4030.107 sec Loss: 0.209 | Acc: 94.120% (9412/10000)\n",
            "\n",
            "Epoch: 81\n",
            "total train iters  391 | time: 46.499 sec Loss: 0.013 | Acc: 99.738% (49869/50000)\n",
            "total test iters  100 | time: 4079.896 sec Loss: 0.209 | Acc: 94.180% (9418/10000)\n",
            "\n",
            "Epoch: 82\n",
            "total train iters  391 | time: 46.625 sec Loss: 0.013 | Acc: 99.690% (49845/50000)\n",
            "total test iters  100 | time: 4129.692 sec Loss: 0.209 | Acc: 94.050% (9405/10000)\n",
            "\n",
            "Epoch: 83\n",
            "total train iters  391 | time: 46.555 sec Loss: 0.013 | Acc: 99.706% (49853/50000)\n",
            "total test iters  100 | time: 4179.436 sec Loss: 0.208 | Acc: 94.070% (9407/10000)\n",
            "\n",
            "Epoch: 84\n",
            "total train iters  391 | time: 46.430 sec Loss: 0.012 | Acc: 99.736% (49868/50000)\n",
            "total test iters  100 | time: 4229.075 sec Loss: 0.210 | Acc: 94.070% (9407/10000)\n",
            "\n",
            "Epoch: 85\n",
            "total train iters  391 | time: 46.744 sec Loss: 0.013 | Acc: 99.726% (49863/50000)\n",
            "total test iters  100 | time: 4278.992 sec Loss: 0.208 | Acc: 94.200% (9420/10000)\n",
            "\n",
            "Epoch: 86\n",
            "total train iters  391 | time: 46.464 sec Loss: 0.012 | Acc: 99.768% (49884/50000)\n",
            "total test iters  100 | time: 4328.699 sec Loss: 0.207 | Acc: 94.050% (9405/10000)\n",
            "\n",
            "Epoch: 87\n",
            "total train iters  391 | time: 46.647 sec Loss: 0.013 | Acc: 99.724% (49862/50000)\n",
            "total test iters  100 | time: 4378.546 sec Loss: 0.209 | Acc: 94.070% (9407/10000)\n",
            "\n",
            "Epoch: 88\n",
            "total train iters  391 | time: 46.558 sec Loss: 0.012 | Acc: 99.744% (49872/50000)\n",
            "total test iters  100 | time: 4428.315 sec Loss: 0.209 | Acc: 94.090% (9409/10000)\n",
            "\n",
            "Epoch: 89\n",
            "total train iters  391 | time: 46.668 sec Loss: 0.013 | Acc: 99.728% (49864/50000)\n",
            "total test iters  100 | time: 4478.264 sec Loss: 0.210 | Acc: 94.110% (9411/10000)\n",
            "\n",
            "Epoch: 90\n",
            "total train iters  391 | time: 46.562 sec Loss: 0.012 | Acc: 99.774% (49887/50000)\n",
            "total test iters  100 | time: 4528.061 sec Loss: 0.209 | Acc: 94.080% (9408/10000)\n",
            "\n",
            "Epoch: 91\n",
            "total train iters  391 | time: 46.710 sec Loss: 0.012 | Acc: 99.744% (49872/50000)\n",
            "total test iters  100 | time: 4577.980 sec Loss: 0.209 | Acc: 94.120% (9412/10000)\n",
            "\n",
            "Epoch: 92\n",
            "total train iters  391 | time: 46.594 sec Loss: 0.012 | Acc: 99.776% (49888/50000)\n",
            "total test iters  100 | time: 4627.797 sec Loss: 0.210 | Acc: 94.060% (9406/10000)\n",
            "\n",
            "Epoch: 93\n",
            "total train iters  391 | time: 46.750 sec Loss: 0.013 | Acc: 99.750% (49875/50000)\n",
            "total test iters  100 | time: 4677.708 sec Loss: 0.210 | Acc: 94.170% (9417/10000)\n",
            "\n",
            "Epoch: 94\n",
            "total train iters  391 | time: 46.395 sec Loss: 0.012 | Acc: 99.772% (49886/50000)\n",
            "total test iters  100 | time: 4727.290 sec Loss: 0.211 | Acc: 94.060% (9406/10000)\n",
            "\n",
            "Epoch: 95\n",
            "total train iters  391 | time: 46.559 sec Loss: 0.012 | Acc: 99.724% (49862/50000)\n",
            "total test iters  100 | time: 4777.153 sec Loss: 0.207 | Acc: 94.130% (9413/10000)\n",
            "\n",
            "Epoch: 96\n",
            "total train iters  391 | time: 46.497 sec Loss: 0.012 | Acc: 99.714% (49857/50000)\n",
            "total test iters  100 | time: 4826.857 sec Loss: 0.209 | Acc: 94.110% (9411/10000)\n",
            "\n",
            "Epoch: 97\n",
            "total train iters  391 | time: 46.546 sec Loss: 0.012 | Acc: 99.758% (49879/50000)\n",
            "total test iters  100 | time: 4876.597 sec Loss: 0.208 | Acc: 94.220% (9422/10000)\n",
            "\n",
            "Epoch: 98\n",
            "total train iters  391 | time: 46.620 sec Loss: 0.012 | Acc: 99.716% (49858/50000)\n",
            "total test iters  100 | time: 4926.387 sec Loss: 0.210 | Acc: 94.000% (9400/10000)\n",
            "\n",
            "Epoch: 99\n",
            "total train iters  391 | time: 46.380 sec Loss: 0.012 | Acc: 99.734% (49867/50000)\n",
            "total test iters  100 | time: 4975.932 sec Loss: 0.211 | Acc: 93.990% (9399/10000)\n"
          ],
          "name": "stdout"
        }
      ]
    },
    {
      "cell_type": "markdown",
      "metadata": {
        "id": "3Uk5GmSRdJ6s",
        "colab_type": "text"
      },
      "source": [
        ""
      ]
    }
  ]
}